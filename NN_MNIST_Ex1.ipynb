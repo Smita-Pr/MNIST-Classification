{
 "cells": [
  {
   "cell_type": "code",
   "execution_count": 1,
   "id": "77fdd7e7",
   "metadata": {},
   "outputs": [],
   "source": [
    "#First look at Neural Network using Keras\n",
    "#Classifying 28*28 grayscale images of 10 digits into their categories (classes) 0-9\n",
    "#Using MNIST dataset ( 60K training and 10K test examples -samples )\n",
    "\n",
    "\n",
    "#Env prep -- conda install -c conda-forge keras\n",
    "#conda create --name tensorflow \n",
    "#activate tensorflow\n",
    "#pip install tensorflow\n",
    "\n",
    "\n",
    "\n",
    "#Loading the dataset\n",
    "\n",
    "from tensorflow.keras.datasets import mnist\n",
    "\n",
    "(train_images,train_labels),(test_images,test_labels) = mnist.load_data()"
   ]
  },
  {
   "cell_type": "code",
   "execution_count": 31,
   "id": "9a214e18",
   "metadata": {},
   "outputs": [
    {
     "data": {
      "text/plain": [
       "numpy.ndarray"
      ]
     },
     "execution_count": 31,
     "metadata": {},
     "output_type": "execute_result"
    }
   ],
   "source": [
    "# training data shape \n",
    "\n",
    "train_images.shape\n",
    "type(train_images)"
   ]
  },
  {
   "cell_type": "code",
   "execution_count": 3,
   "id": "a8343372",
   "metadata": {},
   "outputs": [
    {
     "data": {
      "text/plain": [
       "60000"
      ]
     },
     "execution_count": 3,
     "metadata": {},
     "output_type": "execute_result"
    }
   ],
   "source": [
    "len(train_labels)"
   ]
  },
  {
   "cell_type": "code",
   "execution_count": 4,
   "id": "20177906",
   "metadata": {},
   "outputs": [
    {
     "data": {
      "text/plain": [
       "array([5, 0, 4, ..., 5, 6, 8], dtype=uint8)"
      ]
     },
     "execution_count": 4,
     "metadata": {},
     "output_type": "execute_result"
    }
   ],
   "source": [
    "train_labels"
   ]
  },
  {
   "cell_type": "code",
   "execution_count": 5,
   "id": "effa17e6",
   "metadata": {},
   "outputs": [
    {
     "data": {
      "text/plain": [
       "(10000, 28, 28)"
      ]
     },
     "execution_count": 5,
     "metadata": {},
     "output_type": "execute_result"
    }
   ],
   "source": [
    "# test data shape \n",
    "\n",
    "test_images.shape"
   ]
  },
  {
   "cell_type": "code",
   "execution_count": 6,
   "id": "8ff8502a",
   "metadata": {},
   "outputs": [
    {
     "data": {
      "text/plain": [
       "10000"
      ]
     },
     "execution_count": 6,
     "metadata": {},
     "output_type": "execute_result"
    }
   ],
   "source": [
    "len(test_labels)"
   ]
  },
  {
   "cell_type": "code",
   "execution_count": 7,
   "id": "00b3f5e1",
   "metadata": {},
   "outputs": [
    {
     "data": {
      "text/plain": [
       "array([7, 2, 1, ..., 4, 5, 6], dtype=uint8)"
      ]
     },
     "execution_count": 7,
     "metadata": {},
     "output_type": "execute_result"
    }
   ],
   "source": [
    "test_labels"
   ]
  },
  {
   "cell_type": "code",
   "execution_count": 8,
   "id": "b5083c2f",
   "metadata": {},
   "outputs": [
    {
     "data": {
      "image/png": "[encoded data removed]",
      "text/plain": [
       "<Figure size 432x288 with 1 Axes>"
      ]
     },
     "metadata": {
      "needs_background": "light"
     },
     "output_type": "display_data"
    }
   ],
   "source": [
    "from matplotlib import pyplot as plt\n",
    "from matplotlib import image as mpimg\n",
    " \n",
    "plt.title(\"Sample Image\")\n",
    "plt.xlabel(\"X pixel scaling\")\n",
    "plt.ylabel(\"Y pixels scaling\")\n",
    " \n",
    "sample_image = test_images[0]\n",
    "plt.imshow(sample_image,cmap=plt.cm.binary)\n",
    "plt.show()"
   ]
  },
  {
   "cell_type": "code",
   "execution_count": 9,
   "id": "00817495",
   "metadata": {},
   "outputs": [],
   "source": [
    "from tensorflow import keras\n",
    "from tensorflow.keras import layers"
   ]
  },
  {
   "cell_type": "code",
   "execution_count": 10,
   "id": "c4cb988c",
   "metadata": {},
   "outputs": [
    {
     "name": "stderr",
     "output_type": "stream",
     "text": [
      "2022-06-13 15:57:01.930083: I tensorflow/core/platform/cpu_feature_guard.cc:193] This TensorFlow binary is optimized with oneAPI Deep Neural Network Library (oneDNN) to use the following CPU instructions in performance-critical operations:  AVX2 FMA\n",
      "To enable them in other operations, rebuild TensorFlow with the appropriate compiler flags.\n"
     ]
    }
   ],
   "source": [
    "model = keras.Sequential([layers.Dense(512,activation =\"relu\"),\n",
    "                          layers.Dense(10,activation=\"softmax\")\n",
    "                         ])\n",
    "\n",
    "# model -> 2 dense (FC) layers ,layer 1 : activation relu \n",
    "# layer 2 : softmax classification wih 10 classes (for 10 digits)"
   ]
  },
  {
   "cell_type": "code",
   "execution_count": 11,
   "id": "b7685a44",
   "metadata": {},
   "outputs": [],
   "source": [
    "model.compile(optimizer =\"rmsprop\",\n",
    "              loss = \"sparse_categorical_crossentropy\",\n",
    "              metrics=[\"accuracy\"])\n",
    "\n",
    "#RMSprop optimizer : The RMSprop optimizer is similar to the gradient descent algorithm with momentum. \n",
    "#sparse categorical crossentropy : when classes are mutually exclusive \n",
    "# fraction of images correctly classified"
   ]
  },
  {
   "cell_type": "code",
   "execution_count": 12,
   "id": "8472e761",
   "metadata": {},
   "outputs": [],
   "source": [
    "train_images = train_images.reshape((60000,28*28))\n",
    "train_images = train_images.astype(\"float32\")/255\n",
    "test_images = test_images.reshape((10000,28*28))\n",
    "test_images = test_images.astype(\"float32\")/255\n",
    "\n",
    "#images shape : 60000,28,28 of type uint8 with values in [0,255] \n",
    "# reshape images to 60000,28*28 of type float32 with values in [0,1]"
   ]
  },
  {
   "cell_type": "code",
   "execution_count": 13,
   "id": "90a6f448",
   "metadata": {},
   "outputs": [
    {
     "name": "stdout",
     "output_type": "stream",
     "text": [
      "Epoch 1/10\n",
      "469/469 [==============================] - 4s 7ms/step - loss: 0.2575 - accuracy: 0.9255\n",
      "Epoch 2/10\n",
      "469/469 [==============================] - 4s 8ms/step - loss: 0.1042 - accuracy: 0.9691\n",
      "Epoch 3/10\n",
      "469/469 [==============================] - 4s 7ms/step - loss: 0.0682 - accuracy: 0.9790\n",
      "Epoch 4/10\n",
      "469/469 [==============================] - 3s 7ms/step - loss: 0.0500 - accuracy: 0.9847\n",
      "Epoch 5/10\n",
      "469/469 [==============================] - 3s 6ms/step - loss: 0.0371 - accuracy: 0.9891\n",
      "Epoch 6/10\n",
      "469/469 [==============================] - 3s 7ms/step - loss: 0.0277 - accuracy: 0.9917\n",
      "Epoch 7/10\n",
      "469/469 [==============================] - 3s 7ms/step - loss: 0.0215 - accuracy: 0.9938\n",
      "Epoch 8/10\n",
      "469/469 [==============================] - 4s 8ms/step - loss: 0.0173 - accuracy: 0.9948\n",
      "Epoch 9/10\n",
      "469/469 [==============================] - 4s 8ms/step - loss: 0.0129 - accuracy: 0.9961\n",
      "Epoch 10/10\n",
      "469/469 [==============================] - 4s 8ms/step - loss: 0.0098 - accuracy: 0.9972\n"
     ]
    },
    {
     "data": {
      "text/plain": [
       "<keras.callbacks.History at 0x7fea36155ac0>"
      ]
     },
     "execution_count": 13,
     "metadata": {},
     "output_type": "execute_result"
    }
   ],
   "source": [
    "model.fit(train_images,train_labels,epochs=10, batch_size=128)"
   ]
  },
  {
   "cell_type": "code",
   "execution_count": 14,
   "id": "26dfa2f1",
   "metadata": {},
   "outputs": [
    {
     "name": "stdout",
     "output_type": "stream",
     "text": [
      "313/313 [==============================] - 1s 3ms/step - loss: 0.0727 - accuracy: 0.9799\n"
     ]
    }
   ],
   "source": [
    "test_loss,test_acc = model.evaluate(test_images,test_labels)"
   ]
  },
  {
   "cell_type": "code",
   "execution_count": 15,
   "id": "61595349",
   "metadata": {},
   "outputs": [
    {
     "name": "stdout",
     "output_type": "stream",
     "text": [
      "test_acc is 0.9799000024795532\n"
     ]
    }
   ],
   "source": [
    "print(f\"test_acc is {test_acc}\")"
   ]
  },
  {
   "cell_type": "code",
   "execution_count": 16,
   "id": "1d437d36",
   "metadata": {},
   "outputs": [],
   "source": [
    "image_test=mpimg.imread(\"test_sample.png\")"
   ]
  },
  {
   "cell_type": "code",
   "execution_count": 17,
   "id": "4f52e906",
   "metadata": {},
   "outputs": [
    {
     "data": {
      "text/plain": [
       "<matplotlib.image.AxesImage at 0x7fea36e90910>"
      ]
     },
     "execution_count": 17,
     "metadata": {},
     "output_type": "execute_result"
    },
    {
     "data": {
      "image/png": "[encoded data removed]",
      "text/plain": [
       "<Figure size 432x288 with 1 Axes>"
      ]
     },
     "metadata": {
      "needs_background": "light"
     },
     "output_type": "display_data"
    }
   ],
   "source": [
    "plt.imshow(image_test)"
   ]
  },
  {
   "cell_type": "code",
   "execution_count": 18,
   "id": "ea6912de",
   "metadata": {},
   "outputs": [
    {
     "data": {
      "text/plain": [
       "(320, 240, 4)"
      ]
     },
     "execution_count": 18,
     "metadata": {},
     "output_type": "execute_result"
    }
   ],
   "source": [
    "image_test.shape"
   ]
  },
  {
   "cell_type": "code",
   "execution_count": 19,
   "id": "443ade13",
   "metadata": {},
   "outputs": [],
   "source": [
    "from mnst_image_format_converter import imageprepare"
   ]
  },
  {
   "cell_type": "code",
   "execution_count": 21,
   "id": "6f6db5fb",
   "metadata": {},
   "outputs": [
    {
     "data": {
      "text/plain": [
       "<matplotlib.image.AxesImage at 0x7fea3670b2e0>"
      ]
     },
     "execution_count": 21,
     "metadata": {},
     "output_type": "execute_result"
    },
    {
     "data": {
      "image/png": "[encoded data removed]",
      "text/plain": [
       "<Figure size 432x288 with 1 Axes>"
      ]
     },
     "metadata": {
      "needs_background": "light"
     },
     "output_type": "display_data"
    }
   ],
   "source": [
    "image_test = imageprepare('test_sample.png')\n",
    "plt.imshow(image_test,cmap=plt.cm.binary )"
   ]
  },
  {
   "cell_type": "code",
   "execution_count": 41,
   "id": "74c3cfbf",
   "metadata": {},
   "outputs": [
    {
     "data": {
      "text/plain": [
       "(784, 1)"
      ]
     },
     "execution_count": 41,
     "metadata": {},
     "output_type": "execute_result"
    }
   ],
   "source": [
    "import numpy as np\n",
    "ImgNumpyData = np.array(image_test)\n",
    "\n",
    "type(ImgNumpyData)\n",
    "ImgNumpyData.shape"
   ]
  },
  {
   "cell_type": "code",
   "execution_count": 43,
   "id": "38b7fe60",
   "metadata": {},
   "outputs": [
    {
     "name": "stdout",
     "output_type": "stream",
     "text": [
      "1/1 [==============================] - 0s 45ms/step\n"
     ]
    }
   ],
   "source": [
    "ImgNumpyData = ImgNumpyData.reshape((1,784))\n",
    "ImgNumpyData = ImgNumpyData.astype(\"float32\")/255\n",
    "prediction_test = model.predict(ImgNumpyData)"
   ]
  },
  {
   "cell_type": "code",
   "execution_count": 44,
   "id": "d08cbea1",
   "metadata": {},
   "outputs": [
    {
     "data": {
      "text/plain": [
       "array([[0.05401333, 0.07533855, 0.08482042, 0.07700793, 0.08536631,\n",
       "        0.25177357, 0.07199915, 0.15171   , 0.06127156, 0.08669911]],\n",
       "      dtype=float32)"
      ]
     },
     "execution_count": 44,
     "metadata": {},
     "output_type": "execute_result"
    }
   ],
   "source": [
    "prediction_test"
   ]
  },
  {
   "cell_type": "code",
   "execution_count": null,
   "id": "d0e83578",
   "metadata": {},
   "outputs": [],
   "source": []
  }
 ],
 "metadata": {
  "kernelspec": {
   "display_name": "Python 3 (ipykernel)",
   "language": "python",
   "name": "python3"
  },
  "language_info": {
   "codemirror_mode": {
    "name": "ipython",
    "version": 3
   },
   "file_extension": ".py",
   "mimetype": "text/x-python",
   "name": "python",
   "nbconvert_exporter": "python",
   "pygments_lexer": "ipython3",
   "version": "3.9.12"
  }
 },
 "nbformat": 4,
 "nbformat_minor": 5
}
